{
 "cells": [
  {
   "cell_type": "markdown",
   "metadata": {},
   "source": [
    "## 1. Dependencies"
   ]
  },
  {
   "cell_type": "markdown",
   "metadata": {},
   "source": [
    "#### 1.1 Install required packages"
   ]
  },
  {
   "cell_type": "code",
   "execution_count": null,
   "metadata": {},
   "outputs": [],
   "source": [
    "pip install --upgrade \"ibm-watson>=4.0.1\""
   ]
  },
  {
   "cell_type": "code",
   "execution_count": null,
   "metadata": {},
   "outputs": [],
   "source": [
    "pip install watson-developer-cloud==1.5"
   ]
  },
  {
   "cell_type": "code",
   "execution_count": null,
   "metadata": {},
   "outputs": [],
   "source": [
    "pip install requests"
   ]
  },
  {
   "cell_type": "markdown",
   "metadata": {},
   "source": [
    "#### 1.2 Imports"
   ]
  },
  {
   "cell_type": "code",
   "execution_count": null,
   "metadata": {},
   "outputs": [],
   "source": [
    "import requests\n",
    "import json\n",
    "import os\n",
    "import base64\n",
    "import matplotlib.pyplot as plt\n",
    "import matplotlib.image as mpimg\n",
    "from ipywidgets import interact, interactive, fixed, interact_manual\n",
    "import ipywidgets as widgets\n",
    "from IPython.display import display\n",
    "from ibm_watson import LanguageTranslatorV3\n",
    "from ibm_cloud_sdk_core.authenticators import IAMAuthenticator\n",
    "from watson_developer_cloud import NaturalLanguageUnderstandingV1\n",
    "from watson_developer_cloud.natural_language_understanding_v1 import Features, EntitiesOptions, KeywordsOptions, SemanticRolesOptions, SentimentOptions, EmotionOptions, ConceptsOptions, CategoriesOptions"
   ]
  },
  {
   "cell_type": "markdown",
   "metadata": {},
   "source": [
    "#### 1.3 Global Variables"
   ]
  },
  {
   "cell_type": "code",
   "execution_count": null,
   "metadata": {},
   "outputs": [],
   "source": [
    "# Specify the url for the below microservices\n",
    "url_object_storage_operations = ''\n",
    "url_image_preprocessor = ''\n",
    "url_text_extractor = ''\n",
    "\n",
    "# Specify the image name and bucket name\n",
    "newspaper_img = 'newspaper_hindi.jpg'\n",
    "bucket_name = \"\"\n",
    "\n",
    "# Fill language translator credentials\n",
    "language_translator_api_key = ''\n",
    "language_translator_url = 'https://gateway-lon.watsonplatform.net/language-translator/api'\n",
    "\n",
    "#Fill Natural Language Understanding credentials\n",
    "nlu_api_key = ''\n",
    "nlu_url = 'https://gateway-lon.watsonplatform.net/natural-language-understanding/api'\n",
    "\n",
    "addr_hindi = []\n",
    "addr_english = []\n",
    "img_after_preprocess = []"
   ]
  },
  {
   "cell_type": "markdown",
   "metadata": {},
   "source": [
    "## 2. Appsody stack with Python Flask and Object storage support"
   ]
  },
  {
   "cell_type": "markdown",
   "metadata": {},
   "source": [
    "#### 2.1 Get the image from Cloud Object Storage"
   ]
  },
  {
   "cell_type": "code",
   "execution_count": null,
   "metadata": {},
   "outputs": [],
   "source": [
    "PARAMS = {'buket':bucket_name , 'filename':newspaper_img}\n",
    "r = requests.get(url = url_object_storage_operations + '/getfile', params = PARAMS) \n",
    "r.text"
   ]
  },
  {
   "cell_type": "code",
   "execution_count": null,
   "metadata": {},
   "outputs": [],
   "source": [
    "r = requests.get(url = url_object_storage_operations + '/getimage') \n",
    "d = r.text.encode('ASCII')\n",
    "d"
   ]
  },
  {
   "cell_type": "code",
   "execution_count": null,
   "metadata": {},
   "outputs": [],
   "source": [
    "with open(\"image.jpg\", \"wb\") as fh:\n",
    "    fh.write(base64.decodebytes(d))"
   ]
  },
  {
   "cell_type": "code",
   "execution_count": null,
   "metadata": {},
   "outputs": [],
   "source": [
    "path_newspaper = os.getcwd() + '/image.jpg'\n",
    "img=mpimg.imread(path_newspaper)\n",
    "imgplot = plt.imshow(img)\n",
    "imgplot = plt.title('Hindi Classsified')"
   ]
  },
  {
   "cell_type": "markdown",
   "metadata": {},
   "source": [
    "## 3. Appsody stack with Python Flask and OpenCV support"
   ]
  },
  {
   "cell_type": "markdown",
   "metadata": {},
   "source": [
    "#### 3.1 Preprocess the required image"
   ]
  },
  {
   "cell_type": "code",
   "execution_count": null,
   "metadata": {},
   "outputs": [],
   "source": [
    "mkdir images"
   ]
  },
  {
   "cell_type": "code",
   "execution_count": null,
   "metadata": {},
   "outputs": [],
   "source": [
    "files = {'file': open(path_newspaper, 'rb')}\n",
    "response = requests.post(url_image_preprocessor + '/process', files=files)\n",
    "images = response.json()"
   ]
  },
  {
   "cell_type": "code",
   "execution_count": null,
   "metadata": {},
   "outputs": [],
   "source": [
    "print(images)"
   ]
  },
  {
   "cell_type": "code",
   "execution_count": null,
   "metadata": {},
   "outputs": [],
   "source": [
    "response = requests.get(url_image_preprocessor + '/getimages')\n",
    "images_data = response.json()\n",
    "images_data"
   ]
  },
  {
   "cell_type": "code",
   "execution_count": null,
   "metadata": {},
   "outputs": [],
   "source": [
    "for k,v in images_data.items():\n",
    "    d = v.encode('ASCII')\n",
    "    with open(\".\"+k, \"wb\") as fh:\n",
    "        fh.write(base64.decodebytes(d))"
   ]
  },
  {
   "cell_type": "code",
   "execution_count": null,
   "metadata": {},
   "outputs": [],
   "source": [
    "# Display the detected sections\n",
    "img=mpimg.imread(os.getcwd() + '/images/sections.jpg')\n",
    "imgplot = plt.imshow(img)\n",
    "imgplot = plt.title('Detected different sections')\n",
    "# Display the extracted sections\n",
    "for k in images:\n",
    "    if \"sections\" not in images[k]:\n",
    "        img=mpimg.imread(os.getcwd() + images[k])\n",
    "        img_after_preprocess.append(img)\n",
    "plt.figure(figsize=(20,10))\n",
    "columns = 5\n",
    "for i, image in enumerate(img_after_preprocess):\n",
    "    plt.subplot(len(img_after_preprocess) / columns + 1, columns, i + 1)\n",
    "    plt.title('After Preprocessing')\n",
    "    plt.imshow(image)"
   ]
  },
  {
   "cell_type": "markdown",
   "metadata": {},
   "source": [
    "## 4. Call Appsody stack with Python Flask and Tesseract support"
   ]
  },
  {
   "cell_type": "markdown",
   "metadata": {},
   "source": [
    "#### 4.1 Extract the text using tesseract"
   ]
  },
  {
   "cell_type": "code",
   "execution_count": null,
   "metadata": {},
   "outputs": [],
   "source": [
    "print(\"Addresses Extraction:\")\n",
    "for i in images:\n",
    "    str_image = images[i]\n",
    "    if \"sections\" in str_image:\n",
    "        print(\"----------------------\")\n",
    "    else :\n",
    "        path_image = os.getcwd() + str_image\n",
    "        print(\"----------------------\")\n",
    "        files = {'file': open(path_image, 'rb')}\n",
    "        response = requests.post(url_text_extractor + '/extract', files=files)\n",
    "        addr_hindi.append(response.text)\n",
    "        print(response.text)"
   ]
  },
  {
   "cell_type": "markdown",
   "metadata": {},
   "source": [
    "## 5. Call Watson Language Translator"
   ]
  },
  {
   "cell_type": "markdown",
   "metadata": {},
   "source": [
    "#### 5.1 Translate language from Hindi to English"
   ]
  },
  {
   "cell_type": "code",
   "execution_count": null,
   "metadata": {},
   "outputs": [],
   "source": [
    "authenticator = IAMAuthenticator(language_translator_api_key)\n",
    "language_translator = LanguageTranslatorV3(\n",
    "    version='2019-10-15',\n",
    "    authenticator=authenticator\n",
    ")\n",
    "\n",
    "language_translator.set_service_url(language_translator_url)\n",
    "\n",
    "language_translator.set_disable_ssl_verification(True)"
   ]
  },
  {
   "cell_type": "code",
   "execution_count": null,
   "metadata": {
    "scrolled": true
   },
   "outputs": [],
   "source": [
    "for i in addr_hindi:\n",
    "    translation = language_translator.translate(\n",
    "    text=i,\n",
    "    model_id='hi-en').get_result()\n",
    "    d = json.dumps(translation, indent=2, ensure_ascii=False)\n",
    "    addr = translation['translations'][0]['translation']\n",
    "    addr_english.append(addr)\n",
    "    print(addr)"
   ]
  },
  {
   "cell_type": "code",
   "execution_count": null,
   "metadata": {},
   "outputs": [],
   "source": [
    "print(addr_english)"
   ]
  },
  {
   "cell_type": "markdown",
   "metadata": {},
   "source": [
    "#### 5.2 Put the translated addresses to Cloud Object Storage and delete all the files used for processing"
   ]
  },
  {
   "cell_type": "code",
   "execution_count": null,
   "metadata": {},
   "outputs": [],
   "source": [
    "f = open(\"Translated_Addresses.txt\", \"a\")\n",
    "for i in addr_english:\n",
    "    f.write(i + '\\n')\n",
    "f.close()    "
   ]
  },
  {
   "cell_type": "code",
   "execution_count": null,
   "metadata": {},
   "outputs": [],
   "source": [
    "path_file = os.getcwd() + '/Translated_Addresses.txt'\n",
    "files = {'file': open(path_file, 'rb')}\n",
    "response = requests.post(url_object_storage_operations + '/upload', files=files)\n",
    "response"
   ]
  },
  {
   "cell_type": "code",
   "execution_count": null,
   "metadata": {},
   "outputs": [],
   "source": [
    "rm -r images # Delete the images stored after preprocessing"
   ]
  },
  {
   "cell_type": "code",
   "execution_count": null,
   "metadata": {},
   "outputs": [],
   "source": [
    "rm image.jpg # Delete the newspaper_hindi.jpg"
   ]
  },
  {
   "cell_type": "code",
   "execution_count": null,
   "metadata": {},
   "outputs": [],
   "source": [
    "rm Translated_Addresses.txt # Delete the Translated_Addresses.txt"
   ]
  },
  {
   "cell_type": "code",
   "execution_count": null,
   "metadata": {},
   "outputs": [],
   "source": [
    "ls"
   ]
  },
  {
   "cell_type": "markdown",
   "metadata": {},
   "source": [
    "## 6. Call Watson Natural Language Understanding"
   ]
  },
  {
   "cell_type": "markdown",
   "metadata": {},
   "source": [
    "#### 6.1 Using NLU service, for Analytics"
   ]
  },
  {
   "cell_type": "code",
   "execution_count": null,
   "metadata": {},
   "outputs": [],
   "source": [
    "apikey=nlu_api_key\n",
    "url=nlu_url\n",
    "natural_language_understanding = NaturalLanguageUnderstandingV1(\n",
    "    version='2019-07-12',\n",
    "    iam_api_key=apikey,\n",
    "    url=url\n",
    ")"
   ]
  },
  {
   "cell_type": "code",
   "execution_count": null,
   "metadata": {},
   "outputs": [],
   "source": [
    "def extract_place(place):\n",
    "    response = natural_language_understanding.analyze(\n",
    "      text=place,\n",
    "      features=Features(\n",
    "                        entities=EntitiesOptions(),\n",
    "                        keywords=KeywordsOptions()\n",
    "                        ))\n",
    "    return response\n",
    "# Extract places from the addresses\n",
    "s = ''\n",
    "for j in addr_english:\n",
    "    s = s+j\n",
    "result = extract_place(s)"
   ]
  },
  {
   "cell_type": "code",
   "execution_count": null,
   "metadata": {},
   "outputs": [],
   "source": [
    "visual1= {}\n",
    "visual2 = []\n",
    "visualfinal={}\n",
    "# Extract all the keywords along with their count\n",
    "for i in result['keywords']:\n",
    "    visual1[i['text']] = i['count']\n",
    "# Extract all the entities along with their type\n",
    "for i in result['entities']:\n",
    "    if i['type'] == 'Location':\n",
    "        visual2.append(i['text'])\n",
    "# Gather all the possible locations\n",
    "for k,v in visual1.items():\n",
    "    if k in visual2:\n",
    "        visualfinal[k]=v\n",
    "        #location.append(k)\n",
    "# Filter the data for state wise visualization\n",
    "statevisual={}\n",
    "locationvisual={}\n",
    "location=[]\n",
    "statesAndLocations = { \n",
    "                     'Gujarat' : 'Gandhinagar', \n",
    "                     'Maharashtra' : 'Mumbai', \n",
    "                     'Karnataka' : 'Bangalore', \n",
    "                     'West Bengal' : 'Kolkata'\n",
    "                    } \n",
    "for k,v in visualfinal.items():\n",
    "    for x,y in statesAndLocations.items():\n",
    "        if k in y:\n",
    "            statevisual[x]=v\n",
    "            location.append(x)\n",
    "        elif k in x:\n",
    "            statevisual[k]=v\n",
    "            location.append(k)\n",
    "location = list(dict.fromkeys(location))# Removes duplicates from the list\n",
    "statevisual"
   ]
  },
  {
   "cell_type": "code",
   "execution_count": null,
   "metadata": {},
   "outputs": [],
   "source": [
    "def plot(Location1,Location2):\n",
    "    result = {}\n",
    "    i = 0\n",
    "    for k,v in statevisual.items():\n",
    "        if Location1 == k:\n",
    "            x1 = v\n",
    "            result[Location1]=v\n",
    "        if Location2 == k:\n",
    "            x2 = v\n",
    "            result[Location2]=v\n",
    "    plt.bar(range(len(result)), list(result.values()), align='center')\n",
    "    plt.xticks(range(len(result)), list(result.keys()))\n",
    "    plt.title('Location wise comparision')\n",
    "    plt.xlabel('Location')\n",
    "    plt.ylabel('Number of times appeared')\n",
    "    plt.ylim(0,4)\n",
    "    for k,v in result.items():\n",
    "        plt.annotate(v, xy=(i,v), xytext=(i, v + 0.1))\n",
    "        i = i + 1\n",
    "    plt.show()\n",
    "def piechart():\n",
    "    fig, ax = plt.subplots()\n",
    "    ax.pie(list(statevisual.values()),autopct='%1.1f%%',\n",
    "            shadow=True)\n",
    "    ax.legend(statevisual.keys(),\n",
    "              title=\"States\",\n",
    "              loc=\"center left\",\n",
    "              bbox_to_anchor=(1, 0, 0.5, 1))\n",
    "    ax.set_title(\"% of addresses from different states\")\n",
    "    plt.show()\n",
    "piechart()\n",
    "print(\"--------------------------------------------------------------\")\n",
    "if (\"dsxuser\" not in os.getcwd()):\n",
    "        res = interact(plot, Location1 = location, Location2 = location)"
   ]
  },
  {
   "cell_type": "markdown",
   "metadata": {},
   "source": [
    "#### 6.2 NOTE : Use the below cell if you are using Watson Studio"
   ]
  },
  {
   "cell_type": "code",
   "execution_count": null,
   "metadata": {},
   "outputs": [],
   "source": [
    "# Enter two location you want to compare\n",
    "location1= \"Karnataka\"\n",
    "location2= \"West Bengal\""
   ]
  },
  {
   "cell_type": "code",
   "execution_count": null,
   "metadata": {},
   "outputs": [],
   "source": [
    "if (\"/home/dsxuser\" in os.getcwd()):\n",
    "    res = interact(plot, Location1 = location1, Location2 = location2)"
   ]
  },
  {
   "cell_type": "markdown",
   "metadata": {},
   "source": [
    "## 7. Display all the required adresses."
   ]
  },
  {
   "cell_type": "markdown",
   "metadata": {},
   "source": [
    "#### 7.1 Search address based on location or pincode"
   ]
  },
  {
   "cell_type": "code",
   "execution_count": null,
   "metadata": {
    "scrolled": true
   },
   "outputs": [],
   "source": [
    "x = widgets.Text(value='',description='Location :', disabled=False)\n",
    "if (\"/home/dsxuser\" not in os.getcwd()):\n",
    "    display(x)\n",
    "def callback(text):\n",
    "    flag = 0\n",
    "    print(\"Results for\",text.value,\":\")\n",
    "    for j in addr_english:\n",
    "        if text.value.lower() in j.lower() :\n",
    "            flag = 1\n",
    "            print(j)      \n",
    "    if flag == 0 :\n",
    "        print(\"No address found\")\n",
    "    print(\"\")  \n",
    "x.on_submit(callback)"
   ]
  },
  {
   "cell_type": "markdown",
   "metadata": {},
   "source": [
    "#### 7.2 NOTE : Use the below cell if you are using Watson Studio"
   ]
  },
  {
   "cell_type": "code",
   "execution_count": null,
   "metadata": {},
   "outputs": [],
   "source": [
    "def callback_watson_studio(text):\n",
    "    flag = 0\n",
    "    print(\"Results for\",text,\":\")\n",
    "    for j in addr_english:\n",
    "        if text.lower() in j.lower() :\n",
    "            flag = 1\n",
    "            print(j)      \n",
    "    if flag == 0 :\n",
    "        print(\"No address found\")\n",
    "    print(\"\") "
   ]
  },
  {
   "cell_type": "code",
   "execution_count": null,
   "metadata": {},
   "outputs": [],
   "source": [
    "# Enter a location below. This will extract all the addresses detected from specified location.\n",
    "location = \"Maharashtra\""
   ]
  },
  {
   "cell_type": "code",
   "execution_count": null,
   "metadata": {},
   "outputs": [],
   "source": [
    "if (\"/home/dsxuser\" in os.getcwd()):\n",
    "        callback_watson_studio(location)"
   ]
  },
  {
   "cell_type": "code",
   "execution_count": null,
   "metadata": {},
   "outputs": [],
   "source": []
  }
 ],
 "metadata": {
  "kernelspec": {
   "display_name": "Python 3",
   "language": "python",
   "name": "python3"
  },
  "language_info": {
   "codemirror_mode": {
    "name": "ipython",
    "version": 3
   },
   "file_extension": ".py",
   "mimetype": "text/x-python",
   "name": "python",
   "nbconvert_exporter": "python",
   "pygments_lexer": "ipython3",
   "version": "3.7.4"
  }
 },
 "nbformat": 4,
 "nbformat_minor": 2
}
